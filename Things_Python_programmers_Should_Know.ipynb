{
  "nbformat": 4,
  "nbformat_minor": 0,
  "metadata": {
    "colab": {
      "name": "Things Python programmers Should Know.ipynb",
      "provenance": [],
      "collapsed_sections": [],
      "authorship_tag": "ABX9TyOR9x1TkSauSw24UUVJyQeo",
      "include_colab_link": true
    },
    "kernelspec": {
      "name": "python3",
      "display_name": "Python 3"
    }
  },
  "cells": [
    {
      "cell_type": "markdown",
      "metadata": {
        "id": "view-in-github",
        "colab_type": "text"
      },
      "source": [
        "<a href=\"https://colab.research.google.com/github/zhaojianghe16/Python/blob/master/Things_Python_programmers_Should_Know.ipynb\" target=\"_parent\"><img src=\"https://colab.research.google.com/assets/colab-badge.svg\" alt=\"Open In Colab\"/></a>"
      ]
    },
    {
      "cell_type": "markdown",
      "metadata": {
        "id": "h0qIXEpzfAN7",
        "colab_type": "text"
      },
      "source": [
        "# What is Jupyter Notebook?"
      ]
    },
    {
      "cell_type": "markdown",
      "metadata": {
        "id": "BOGVCMpAfVNE",
        "colab_type": "text"
      },
      "source": [
        "Jupyter Notebook was known as IPython Notebook. When you install Jupyter Notebook, it will automatically install IPython shell as a Kernel."
      ]
    },
    {
      "cell_type": "markdown",
      "metadata": {
        "id": "jzxZw6aGeeY4",
        "colab_type": "text"
      },
      "source": [
        "#1. How do we check the version of the Python?\n",
        "\n",
        "\n",
        " "
      ]
    },
    {
      "cell_type": "code",
      "metadata": {
        "id": "ISUQK-IHepjG",
        "colab_type": "code",
        "colab": {}
      },
      "source": [
        "from platform import python_version"
      ],
      "execution_count": 2,
      "outputs": []
    },
    {
      "cell_type": "code",
      "metadata": {
        "id": "xI1UTYg3e6c8",
        "colab_type": "code",
        "colab": {
          "base_uri": "https://localhost:8080/",
          "height": 34
        },
        "outputId": "0f2df4bb-1323-4710-b349-a48923a990d0"
      },
      "source": [
        "print('The version of the python that you installed was', python_version())"
      ],
      "execution_count": 4,
      "outputs": [
        {
          "output_type": "stream",
          "text": [
            "The version of the python that you installed was 3.6.9\n"
          ],
          "name": "stdout"
        }
      ]
    },
    {
      "cell_type": "markdown",
      "metadata": {
        "id": "Ys5HuUCygWu4",
        "colab_type": "text"
      },
      "source": [
        "#2. Division by zero is never allowed"
      ]
    },
    {
      "cell_type": "code",
      "metadata": {
        "id": "nAX0rDH8gaei",
        "colab_type": "code",
        "colab": {
          "base_uri": "https://localhost:8080/",
          "height": 34
        },
        "outputId": "dbe714af-bc7c-40fe-a222-a1450ab6133a"
      },
      "source": [
        "try: \n",
        "  1/0\n",
        "except: \n",
        "  print('ZeroDivisionError: division by zero')"
      ],
      "execution_count": 8,
      "outputs": [
        {
          "output_type": "stream",
          "text": [
            "ZeroDivisionError: division by zero\n"
          ],
          "name": "stdout"
        }
      ]
    },
    {
      "cell_type": "markdown",
      "metadata": {
        "id": "IYE5aU_jhTOD",
        "colab_type": "text"
      },
      "source": [
        "#3. Input() function will save the input as a string"
      ]
    },
    {
      "cell_type": "code",
      "metadata": {
        "id": "sT5Y09mkhYdk",
        "colab_type": "code",
        "colab": {
          "base_uri": "https://localhost:8080/",
          "height": 34
        },
        "outputId": "ab098426-c700-4fbe-ec2f-3d7fc3446076"
      },
      "source": [
        "name= input()"
      ],
      "execution_count": 17,
      "outputs": [
        {
          "output_type": "stream",
          "text": [
            "Alan\n"
          ],
          "name": "stdout"
        }
      ]
    },
    {
      "cell_type": "code",
      "metadata": {
        "id": "fLKZRx9KhcqO",
        "colab_type": "code",
        "colab": {
          "base_uri": "https://localhost:8080/",
          "height": 34
        },
        "outputId": "fc6b124e-5725-41f3-a0ea-6b88ac89718e"
      },
      "source": [
        "print('the type of the variable \"name\" is' , type( name) ) "
      ],
      "execution_count": 18,
      "outputs": [
        {
          "output_type": "stream",
          "text": [
            "the type of the variable \"name\" is <class 'str'>\n"
          ],
          "name": "stdout"
        }
      ]
    },
    {
      "cell_type": "code",
      "metadata": {
        "id": "_Yg7-4oAhhBV",
        "colab_type": "code",
        "colab": {
          "base_uri": "https://localhost:8080/",
          "height": 34
        },
        "outputId": "a148c9aa-5936-4e04-e31b-a6c245b07bb3"
      },
      "source": [
        "number = input()"
      ],
      "execution_count": 19,
      "outputs": [
        {
          "output_type": "stream",
          "text": [
            "10000\n"
          ],
          "name": "stdout"
        }
      ]
    },
    {
      "cell_type": "code",
      "metadata": {
        "id": "Fo5KaLaxhjxH",
        "colab_type": "code",
        "colab": {
          "base_uri": "https://localhost:8080/",
          "height": 34
        },
        "outputId": "0b805252-cf1d-402a-89f6-6694c2e14409"
      },
      "source": [
        "print('the type of the variable \"name\" is' , type( name) ) "
      ],
      "execution_count": 20,
      "outputs": [
        {
          "output_type": "stream",
          "text": [
            "the type of the variable \"name\" is <class 'str'>\n"
          ],
          "name": "stdout"
        }
      ]
    },
    {
      "cell_type": "markdown",
      "metadata": {
        "id": "B_eSSlW6iOV7",
        "colab_type": "text"
      },
      "source": [
        "# 4. Special character:  \\ "
      ]
    },
    {
      "cell_type": "markdown",
      "metadata": {
        "id": "eVRas6gMj1my",
        "colab_type": "text"
      },
      "source": [
        " \"\\t\" is a tab, \"\\n\" is a newline, and \"\\r\" is a carriage return."
      ]
    },
    {
      "cell_type": "code",
      "metadata": {
        "id": "H5TEpm3zj8eJ",
        "colab_type": "code",
        "colab": {
          "base_uri": "https://localhost:8080/",
          "height": 34
        },
        "outputId": "ed8fa85c-161a-4274-c76c-c6139aaf5fe6"
      },
      "source": [
        "print(\"apple\",\"pear\")"
      ],
      "execution_count": 27,
      "outputs": [
        {
          "output_type": "stream",
          "text": [
            "apple pear\n"
          ],
          "name": "stdout"
        }
      ]
    },
    {
      "cell_type": "code",
      "metadata": {
        "id": "q13OGEhbiR4C",
        "colab_type": "code",
        "colab": {
          "base_uri": "https://localhost:8080/",
          "height": 34
        },
        "outputId": "8d21ad41-0948-47bd-9c88-6d954af5a14d"
      },
      "source": [
        "print(\"apple \\t pear\")"
      ],
      "execution_count": 25,
      "outputs": [
        {
          "output_type": "stream",
          "text": [
            "apple \t pear\n"
          ],
          "name": "stdout"
        }
      ]
    },
    {
      "cell_type": "code",
      "metadata": {
        "id": "awsMtglcisAW",
        "colab_type": "code",
        "colab": {
          "base_uri": "https://localhost:8080/",
          "height": 51
        },
        "outputId": "46cdcd7a-a066-4e96-9220-3282db7beab9"
      },
      "source": [
        "print(\"apple \\npear\")"
      ],
      "execution_count": 30,
      "outputs": [
        {
          "output_type": "stream",
          "text": [
            "apple \n",
            "pear\n"
          ],
          "name": "stdout"
        }
      ]
    },
    {
      "cell_type": "markdown",
      "metadata": {
        "id": "YbQfZRmRk9WJ",
        "colab_type": "text"
      },
      "source": [
        "Prefixing a special character with \"\\\" turns it into an ordinary character. This is called \"escaping\". For example, \"\\'\" is the single quote character. 'It\\'s raining' therefore is a valid string and equivalent to \"It's raining\""
      ]
    },
    {
      "cell_type": "code",
      "metadata": {
        "id": "-OpoOHTskDU-",
        "colab_type": "code",
        "colab": {
          "base_uri": "https://localhost:8080/",
          "height": 34
        },
        "outputId": "8033493d-01c9-4e15-fe21-3a46ed0668d4"
      },
      "source": [
        "print('It\\'s Friday.Let\\'s have some fun together!')"
      ],
      "execution_count": 31,
      "outputs": [
        {
          "output_type": "stream",
          "text": [
            "It's Friday.Let's have some fun together!\n"
          ],
          "name": "stdout"
        }
      ]
    },
    {
      "cell_type": "markdown",
      "metadata": {
        "id": "EL_xAIvPlKM_",
        "colab_type": "text"
      },
      "source": [
        "# 5. Play around with strings "
      ]
    },
    {
      "cell_type": "markdown",
      "metadata": {
        "id": "2XMjmU8xlNcJ",
        "colab_type": "text"
      },
      "source": [
        "Being consistent. There are three ways to create a string.\n",
        "\n",
        "\n",
        "*  using 'string1'\n",
        "*  using \"string2'\n",
        "*  using \"\"\"string3\"\"\"\n",
        "\n",
        "\n",
        "\n"
      ]
    },
    {
      "cell_type": "code",
      "metadata": {
        "id": "QWY7SbVtlMsW",
        "colab_type": "code",
        "colab": {
          "base_uri": "https://localhost:8080/",
          "height": 34
        },
        "outputId": "f5ee9daf-5e16-43ca-e30b-6763b35ebe7d"
      },
      "source": [
        "print('This is string1')"
      ],
      "execution_count": 35,
      "outputs": [
        {
          "output_type": "stream",
          "text": [
            "This is string1\n"
          ],
          "name": "stdout"
        }
      ]
    },
    {
      "cell_type": "code",
      "metadata": {
        "id": "wftsyqsQlju6",
        "colab_type": "code",
        "colab": {
          "base_uri": "https://localhost:8080/",
          "height": 34
        },
        "outputId": "405ed9fa-06ca-460a-aa1a-9cb4e5041fc6"
      },
      "source": [
        "print(\"This is string2\")"
      ],
      "execution_count": 36,
      "outputs": [
        {
          "output_type": "stream",
          "text": [
            "This is string2\n"
          ],
          "name": "stdout"
        }
      ]
    },
    {
      "cell_type": "code",
      "metadata": {
        "id": "5L4pgpp6llqB",
        "colab_type": "code",
        "colab": {
          "base_uri": "https://localhost:8080/",
          "height": 34
        },
        "outputId": "53a93e8f-a4ff-465a-9cb0-9a73e78cb451"
      },
      "source": [
        "print(\"\"\"This is string3\"\"\")"
      ],
      "execution_count": 37,
      "outputs": [
        {
          "output_type": "stream",
          "text": [
            "This is string3\n"
          ],
          "name": "stdout"
        }
      ]
    },
    {
      "cell_type": "markdown",
      "metadata": {
        "id": "6lz-Y_T8mQCJ",
        "colab_type": "text"
      },
      "source": [
        "You can even put a string inside a string without using an escape character "
      ]
    },
    {
      "cell_type": "code",
      "metadata": {
        "id": "UEveEVX8mV2D",
        "colab_type": "code",
        "colab": {
          "base_uri": "https://localhost:8080/",
          "height": 34
        },
        "outputId": "07c27576-0c6c-4d17-97f2-8c13b7159e9e"
      },
      "source": [
        "print( \"Alan says：'you can even put a string inside a string without using an escaping character.'\")"
      ],
      "execution_count": 42,
      "outputs": [
        {
          "output_type": "stream",
          "text": [
            "Alan says：'you can even put a string inside a string without using an escaping character.'\n"
          ],
          "name": "stdout"
        }
      ]
    },
    {
      "cell_type": "markdown",
      "metadata": {
        "id": "dyDaC3jVly7g",
        "colab_type": "text"
      },
      "source": [
        "# 6. Int() will truncate the input if it's a float type. Truncate means getting rid of the numbers after the decimal (Not rounding up)"
      ]
    },
    {
      "cell_type": "code",
      "metadata": {
        "id": "1lvI10FClnzK",
        "colab_type": "code",
        "colab": {
          "base_uri": "https://localhost:8080/",
          "height": 34
        },
        "outputId": "49da7193-5acb-47a9-9cb5-7acb433fbf0d"
      },
      "source": [
        "int(35.6)"
      ],
      "execution_count": 38,
      "outputs": [
        {
          "output_type": "execute_result",
          "data": {
            "text/plain": [
              "35"
            ]
          },
          "metadata": {
            "tags": []
          },
          "execution_count": 38
        }
      ]
    },
    {
      "cell_type": "code",
      "metadata": {
        "id": "2TYEDlO0l54Y",
        "colab_type": "code",
        "colab": {
          "base_uri": "https://localhost:8080/",
          "height": 34
        },
        "outputId": "263c7d13-c736-4c63-e6b6-e62b9aae133c"
      },
      "source": [
        "int(35.2)"
      ],
      "execution_count": 39,
      "outputs": [
        {
          "output_type": "execute_result",
          "data": {
            "text/plain": [
              "35"
            ]
          },
          "metadata": {
            "tags": []
          },
          "execution_count": 39
        }
      ]
    },
    {
      "cell_type": "code",
      "metadata": {
        "id": "pMew7wHtl7NV",
        "colab_type": "code",
        "colab": {}
      },
      "source": [
        ""
      ],
      "execution_count": null,
      "outputs": []
    },
    {
      "cell_type": "markdown",
      "metadata": {
        "id": "Hh2nsSZwmstY",
        "colab_type": "text"
      },
      "source": [
        "##To Be Continued. This file will be updated weekly starting from 2020/09/10."
      ]
    }
  ]
}
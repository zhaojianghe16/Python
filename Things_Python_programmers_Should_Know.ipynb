{
  "nbformat": 4,
  "nbformat_minor": 0,
  "metadata": {
    "colab": {
      "name": "Things Python programmers Should Know.ipynb",
      "provenance": [],
      "collapsed_sections": [
        "Hh2nsSZwmstY"
      ],
      "authorship_tag": "ABX9TyOr9Nky+j5SvALnaagQzxTh",
      "include_colab_link": true
    },
    "kernelspec": {
      "name": "python3",
      "display_name": "Python 3"
    }
  },
  "cells": [
    {
      "cell_type": "markdown",
      "metadata": {
        "id": "view-in-github",
        "colab_type": "text"
      },
      "source": [
        "<a href=\"https://colab.research.google.com/github/zhaojianghe16/Python/blob/master/Things_Python_programmers_Should_Know.ipynb\" target=\"_parent\"><img src=\"https://colab.research.google.com/assets/colab-badge.svg\" alt=\"Open In Colab\"/></a>"
      ]
    },
    {
      "cell_type": "markdown",
      "metadata": {
        "id": "h0qIXEpzfAN7",
        "colab_type": "text"
      },
      "source": [
        "# What is Jupyter Notebook?"
      ]
    },
    {
      "cell_type": "markdown",
      "metadata": {
        "id": "BOGVCMpAfVNE",
        "colab_type": "text"
      },
      "source": [
        "Jupyter Notebook was known as IPython Notebook. When you install Jupyter Notebook, it will automatically install IPython shell as a Kernel."
      ]
    },
    {
      "cell_type": "markdown",
      "metadata": {
        "id": "jzxZw6aGeeY4",
        "colab_type": "text"
      },
      "source": [
        "##1. How do we check the version of the Python?\n",
        "\n",
        "\n",
        " "
      ]
    },
    {
      "cell_type": "code",
      "metadata": {
        "id": "ISUQK-IHepjG",
        "colab_type": "code",
        "colab": {}
      },
      "source": [
        "from platform import python_version"
      ],
      "execution_count": 1,
      "outputs": []
    },
    {
      "cell_type": "code",
      "metadata": {
        "id": "xI1UTYg3e6c8",
        "colab_type": "code",
        "colab": {
          "base_uri": "https://localhost:8080/",
          "height": 34
        },
        "outputId": "150c6339-eed3-4450-eb2b-d7d4aa8ab3c4"
      },
      "source": [
        "print('The version of the python that you installed was', python_version())"
      ],
      "execution_count": 2,
      "outputs": [
        {
          "output_type": "stream",
          "text": [
            "The version of the python that you installed was 3.6.9\n"
          ],
          "name": "stdout"
        }
      ]
    },
    {
      "cell_type": "markdown",
      "metadata": {
        "id": "Ys5HuUCygWu4",
        "colab_type": "text"
      },
      "source": [
        "##2. Division by zero is never allowed"
      ]
    },
    {
      "cell_type": "code",
      "metadata": {
        "id": "nAX0rDH8gaei",
        "colab_type": "code",
        "colab": {
          "base_uri": "https://localhost:8080/",
          "height": 34
        },
        "outputId": "5eb0315e-d922-4ffe-d3bc-c396678559e9"
      },
      "source": [
        "try: \n",
        "  1/0\n",
        "except: \n",
        "  print('ZeroDivisionError: division by zero')"
      ],
      "execution_count": 3,
      "outputs": [
        {
          "output_type": "stream",
          "text": [
            "ZeroDivisionError: division by zero\n"
          ],
          "name": "stdout"
        }
      ]
    },
    {
      "cell_type": "markdown",
      "metadata": {
        "id": "IYE5aU_jhTOD",
        "colab_type": "text"
      },
      "source": [
        "##3. Input() function will save the input as a string"
      ]
    },
    {
      "cell_type": "code",
      "metadata": {
        "id": "sT5Y09mkhYdk",
        "colab_type": "code",
        "colab": {
          "base_uri": "https://localhost:8080/",
          "height": 34
        },
        "outputId": "385f8e12-8e02-413a-e285-ff9930a75a8d"
      },
      "source": [
        "name= input()"
      ],
      "execution_count": 4,
      "outputs": [
        {
          "output_type": "stream",
          "text": [
            "Jay\n"
          ],
          "name": "stdout"
        }
      ]
    },
    {
      "cell_type": "code",
      "metadata": {
        "id": "fLKZRx9KhcqO",
        "colab_type": "code",
        "colab": {
          "base_uri": "https://localhost:8080/",
          "height": 34
        },
        "outputId": "496da059-88eb-45ac-bb1e-04f68f1d6587"
      },
      "source": [
        "print('the type of the variable \"name\" is' , type( name) ) "
      ],
      "execution_count": 5,
      "outputs": [
        {
          "output_type": "stream",
          "text": [
            "the type of the variable \"name\" is <class 'str'>\n"
          ],
          "name": "stdout"
        }
      ]
    },
    {
      "cell_type": "code",
      "metadata": {
        "id": "_Yg7-4oAhhBV",
        "colab_type": "code",
        "colab": {
          "base_uri": "https://localhost:8080/",
          "height": 34
        },
        "outputId": "3931ced0-8609-457b-87fd-7e693712bba8"
      },
      "source": [
        "number = input()"
      ],
      "execution_count": 6,
      "outputs": [
        {
          "output_type": "stream",
          "text": [
            "100\n"
          ],
          "name": "stdout"
        }
      ]
    },
    {
      "cell_type": "code",
      "metadata": {
        "id": "Fo5KaLaxhjxH",
        "colab_type": "code",
        "colab": {
          "base_uri": "https://localhost:8080/",
          "height": 34
        },
        "outputId": "e94425a9-8295-418e-d7d1-7444289c7d22"
      },
      "source": [
        "print('the type of the variable \"name\" is' , type( name) ) "
      ],
      "execution_count": 7,
      "outputs": [
        {
          "output_type": "stream",
          "text": [
            "the type of the variable \"name\" is <class 'str'>\n"
          ],
          "name": "stdout"
        }
      ]
    },
    {
      "cell_type": "markdown",
      "metadata": {
        "id": "B_eSSlW6iOV7",
        "colab_type": "text"
      },
      "source": [
        "## 4. Special character:  \\ "
      ]
    },
    {
      "cell_type": "markdown",
      "metadata": {
        "id": "eVRas6gMj1my",
        "colab_type": "text"
      },
      "source": [
        " \"\\t\" is a tab, \"\\n\" is a newline, and \"\\r\" is a carriage return."
      ]
    },
    {
      "cell_type": "code",
      "metadata": {
        "id": "H5TEpm3zj8eJ",
        "colab_type": "code",
        "colab": {
          "base_uri": "https://localhost:8080/",
          "height": 34
        },
        "outputId": "035b4ba1-6640-4aad-9d5f-5dc4955ab9f8"
      },
      "source": [
        "print(\"apple\",\"pear\")"
      ],
      "execution_count": 8,
      "outputs": [
        {
          "output_type": "stream",
          "text": [
            "apple pear\n"
          ],
          "name": "stdout"
        }
      ]
    },
    {
      "cell_type": "code",
      "metadata": {
        "id": "q13OGEhbiR4C",
        "colab_type": "code",
        "colab": {
          "base_uri": "https://localhost:8080/",
          "height": 34
        },
        "outputId": "27a5bfe8-a747-49de-b685-3b276b172f94"
      },
      "source": [
        "print(\"apple \\t pear\")"
      ],
      "execution_count": 9,
      "outputs": [
        {
          "output_type": "stream",
          "text": [
            "apple \t pear\n"
          ],
          "name": "stdout"
        }
      ]
    },
    {
      "cell_type": "code",
      "metadata": {
        "id": "awsMtglcisAW",
        "colab_type": "code",
        "colab": {
          "base_uri": "https://localhost:8080/",
          "height": 51
        },
        "outputId": "1ca348e6-255b-47a5-80d1-84167cc5a891"
      },
      "source": [
        "print(\"apple \\npear\")"
      ],
      "execution_count": 10,
      "outputs": [
        {
          "output_type": "stream",
          "text": [
            "apple \n",
            "pear\n"
          ],
          "name": "stdout"
        }
      ]
    },
    {
      "cell_type": "markdown",
      "metadata": {
        "id": "YbQfZRmRk9WJ",
        "colab_type": "text"
      },
      "source": [
        "Prefixing a special character with \"\\\" turns it into an ordinary character. This is called \"escaping\". For example, \"\\'\" is the single quote character. 'It\\'s raining' therefore is a valid string and equivalent to \"It's raining\""
      ]
    },
    {
      "cell_type": "code",
      "metadata": {
        "id": "-OpoOHTskDU-",
        "colab_type": "code",
        "colab": {
          "base_uri": "https://localhost:8080/",
          "height": 34
        },
        "outputId": "b808a9c4-2b7c-4065-e5ae-56f983c71d4f"
      },
      "source": [
        "print('It\\'s Friday.Let\\'s have some fun together!')"
      ],
      "execution_count": 11,
      "outputs": [
        {
          "output_type": "stream",
          "text": [
            "It's Friday.Let's have some fun together!\n"
          ],
          "name": "stdout"
        }
      ]
    },
    {
      "cell_type": "markdown",
      "metadata": {
        "id": "EL_xAIvPlKM_",
        "colab_type": "text"
      },
      "source": [
        "## 5. Play around with strings "
      ]
    },
    {
      "cell_type": "markdown",
      "metadata": {
        "id": "2XMjmU8xlNcJ",
        "colab_type": "text"
      },
      "source": [
        "Being consistent. There are three ways to create a string.\n",
        "\n",
        "\n",
        "*  using 'string1'\n",
        "*  using \"string2'\n",
        "*  using \"\"\"string3\"\"\"\n",
        "\n",
        "\n",
        "\n"
      ]
    },
    {
      "cell_type": "code",
      "metadata": {
        "id": "QWY7SbVtlMsW",
        "colab_type": "code",
        "colab": {
          "base_uri": "https://localhost:8080/",
          "height": 34
        },
        "outputId": "2a59c174-e34f-4113-c847-d352a0400f62"
      },
      "source": [
        "print('This is string1')"
      ],
      "execution_count": 12,
      "outputs": [
        {
          "output_type": "stream",
          "text": [
            "This is string1\n"
          ],
          "name": "stdout"
        }
      ]
    },
    {
      "cell_type": "code",
      "metadata": {
        "id": "wftsyqsQlju6",
        "colab_type": "code",
        "colab": {
          "base_uri": "https://localhost:8080/",
          "height": 34
        },
        "outputId": "9439f931-11a5-4d31-9966-1743b7db0b4d"
      },
      "source": [
        "print(\"This is string2\")"
      ],
      "execution_count": 13,
      "outputs": [
        {
          "output_type": "stream",
          "text": [
            "This is string2\n"
          ],
          "name": "stdout"
        }
      ]
    },
    {
      "cell_type": "code",
      "metadata": {
        "id": "5L4pgpp6llqB",
        "colab_type": "code",
        "colab": {
          "base_uri": "https://localhost:8080/",
          "height": 34
        },
        "outputId": "1f14217c-b93e-4dc0-a713-43f984ead60f"
      },
      "source": [
        "print(\"\"\"This is string3\"\"\")"
      ],
      "execution_count": 14,
      "outputs": [
        {
          "output_type": "stream",
          "text": [
            "This is string3\n"
          ],
          "name": "stdout"
        }
      ]
    },
    {
      "cell_type": "markdown",
      "metadata": {
        "id": "6lz-Y_T8mQCJ",
        "colab_type": "text"
      },
      "source": [
        "You can even put a string inside a string without using an escape character "
      ]
    },
    {
      "cell_type": "code",
      "metadata": {
        "id": "UEveEVX8mV2D",
        "colab_type": "code",
        "colab": {
          "base_uri": "https://localhost:8080/",
          "height": 34
        },
        "outputId": "73767113-4261-4427-b968-7a32a699916a"
      },
      "source": [
        "print( \"Alan says：'you can even put a string inside a string without using an escaping character.'\")"
      ],
      "execution_count": 15,
      "outputs": [
        {
          "output_type": "stream",
          "text": [
            "Alan says：'you can even put a string inside a string without using an escaping character.'\n"
          ],
          "name": "stdout"
        }
      ]
    },
    {
      "cell_type": "markdown",
      "metadata": {
        "id": "dyDaC3jVly7g",
        "colab_type": "text"
      },
      "source": [
        "## 6. Int() will truncate the input if it's a float type. Truncate means getting rid of the numbers after the decimal (Not rounding up)"
      ]
    },
    {
      "cell_type": "code",
      "metadata": {
        "id": "1lvI10FClnzK",
        "colab_type": "code",
        "colab": {
          "base_uri": "https://localhost:8080/",
          "height": 34
        },
        "outputId": "83c8e4c4-8be3-4683-bf50-fc0fede46582"
      },
      "source": [
        "int(35.6)"
      ],
      "execution_count": 16,
      "outputs": [
        {
          "output_type": "execute_result",
          "data": {
            "text/plain": [
              "35"
            ]
          },
          "metadata": {
            "tags": []
          },
          "execution_count": 16
        }
      ]
    },
    {
      "cell_type": "code",
      "metadata": {
        "id": "2TYEDlO0l54Y",
        "colab_type": "code",
        "colab": {
          "base_uri": "https://localhost:8080/",
          "height": 34
        },
        "outputId": "745889aa-37ca-4d8c-8ddf-261ecf9aad4f"
      },
      "source": [
        "int(35.2)"
      ],
      "execution_count": 17,
      "outputs": [
        {
          "output_type": "execute_result",
          "data": {
            "text/plain": [
              "35"
            ]
          },
          "metadata": {
            "tags": []
          },
          "execution_count": 17
        }
      ]
    },
    {
      "cell_type": "markdown",
      "metadata": {
        "id": "LKpjqlrcrUrf",
        "colab_type": "text"
      },
      "source": [
        "##7. Objected created inside an if statment will continue to exist after execution"
      ]
    },
    {
      "cell_type": "code",
      "metadata": {
        "id": "pMew7wHtl7NV",
        "colab_type": "code",
        "colab": {}
      },
      "source": [
        "grade = 99"
      ],
      "execution_count": 18,
      "outputs": []
    },
    {
      "cell_type": "code",
      "metadata": {
        "id": "M0WufWJurSkC",
        "colab_type": "code",
        "colab": {}
      },
      "source": [
        "if grade >= 60:\n",
        "  result= 'Passed'\n",
        "else: \n",
        "  result='failed'"
      ],
      "execution_count": 19,
      "outputs": []
    },
    {
      "cell_type": "code",
      "metadata": {
        "id": "gkaYD562rS1d",
        "colab_type": "code",
        "colab": {
          "base_uri": "https://localhost:8080/",
          "height": 35
        },
        "outputId": "9c0e24af-fa1e-4f1f-d7c8-3fd965586428"
      },
      "source": [
        "result"
      ],
      "execution_count": 20,
      "outputs": [
        {
          "output_type": "execute_result",
          "data": {
            "application/vnd.google.colaboratory.intrinsic+json": {
              "type": "string"
            },
            "text/plain": [
              "'Passed'"
            ]
          },
          "metadata": {
            "tags": []
          },
          "execution_count": 20
        }
      ]
    },
    {
      "cell_type": "markdown",
      "metadata": {
        "id": "wtSRJBzJugnV",
        "colab_type": "text"
      },
      "source": [
        "##8.Compressed if statement"
      ]
    },
    {
      "cell_type": "code",
      "metadata": {
        "id": "ryd_V6SAuwKp",
        "colab_type": "code",
        "colab": {}
      },
      "source": [
        "grade = 59"
      ],
      "execution_count": 21,
      "outputs": []
    },
    {
      "cell_type": "code",
      "metadata": {
        "id": "1-M8cVcNrTA0",
        "colab_type": "code",
        "colab": {}
      },
      "source": [
        "result = ( 'Passed' if grade >= 60 else 'failed')"
      ],
      "execution_count": 22,
      "outputs": []
    },
    {
      "cell_type": "code",
      "metadata": {
        "id": "4RxPUbv1rTQ2",
        "colab_type": "code",
        "colab": {
          "base_uri": "https://localhost:8080/",
          "height": 35
        },
        "outputId": "e5b87b4c-2522-40a5-e64d-74b68eeddd94"
      },
      "source": [
        "result"
      ],
      "execution_count": 23,
      "outputs": [
        {
          "output_type": "execute_result",
          "data": {
            "application/vnd.google.colaboratory.intrinsic+json": {
              "type": "string"
            },
            "text/plain": [
              "'failed'"
            ]
          },
          "metadata": {
            "tags": []
          },
          "execution_count": 23
        }
      ]
    },
    {
      "cell_type": "markdown",
      "metadata": {
        "id": "bA7N8Kz4vtfM",
        "colab_type": "text"
      },
      "source": [
        "##9. Use range to count backward"
      ]
    },
    {
      "cell_type": "code",
      "metadata": {
        "id": "t7e9XWDrvrRr",
        "colab_type": "code",
        "colab": {
          "base_uri": "https://localhost:8080/",
          "height": 102
        },
        "outputId": "7bec2c29-1626-4625-ec2a-0f01ba876ff9"
      },
      "source": [
        "for i in range(10,0,-2):\n",
        "  print(i)"
      ],
      "execution_count": 24,
      "outputs": [
        {
          "output_type": "stream",
          "text": [
            "10\n",
            "8\n",
            "6\n",
            "4\n",
            "2\n"
          ],
          "name": "stdout"
        }
      ]
    },
    {
      "cell_type": "code",
      "metadata": {
        "id": "25-DsI0E0im7",
        "colab_type": "code",
        "colab": {
          "base_uri": "https://localhost:8080/",
          "height": 34
        },
        "outputId": "532b5c2e-8a88-444f-bf28-f142de74fcca"
      },
      "source": [
        "sum(range(100))"
      ],
      "execution_count": 25,
      "outputs": [
        {
          "output_type": "execute_result",
          "data": {
            "text/plain": [
              "4950"
            ]
          },
          "metadata": {
            "tags": []
          },
          "execution_count": 25
        }
      ]
    },
    {
      "cell_type": "markdown",
      "metadata": {
        "id": "phGkPuNQ05E6",
        "colab_type": "text"
      },
      "source": [
        "## 10. floating point numbers are only estimation. They are not precise. Decimal number are precise."
      ]
    },
    {
      "cell_type": "code",
      "metadata": {
        "id": "MK1GViYT0wFw",
        "colab_type": "code",
        "colab": {
          "base_uri": "https://localhost:8080/",
          "height": 34
        },
        "outputId": "906c2970-130b-4da4-d2ce-7108c1b5da3e"
      },
      "source": [
        "amount = 112.123\n",
        "amount"
      ],
      "execution_count": 26,
      "outputs": [
        {
          "output_type": "execute_result",
          "data": {
            "text/plain": [
              "112.123"
            ]
          },
          "metadata": {
            "tags": []
          },
          "execution_count": 26
        }
      ]
    },
    {
      "cell_type": "code",
      "metadata": {
        "id": "sR5ta0Kp04d2",
        "colab_type": "code",
        "colab": {
          "base_uri": "https://localhost:8080/",
          "height": 34
        },
        "outputId": "adc3dbbe-63c5-4fa9-b671-1f833e52b826"
      },
      "source": [
        "print(f'{amount:.20f}')"
      ],
      "execution_count": 27,
      "outputs": [
        {
          "output_type": "stream",
          "text": [
            "112.12300000000000466116\n"
          ],
          "name": "stdout"
        }
      ]
    },
    {
      "cell_type": "code",
      "metadata": {
        "id": "xh6UaoBQ1JGZ",
        "colab_type": "code",
        "colab": {}
      },
      "source": [
        "from decimal import Decimal "
      ],
      "execution_count": 28,
      "outputs": []
    },
    {
      "cell_type": "code",
      "metadata": {
        "id": "1lDqM08M1hbG",
        "colab_type": "code",
        "colab": {
          "base_uri": "https://localhost:8080/",
          "height": 34
        },
        "outputId": "c12cfd5b-c853-467d-9625-dcc562166073"
      },
      "source": [
        "amount2=Decimal( '112.123' ) # initialize it with a string/integer.\n",
        "amount2"
      ],
      "execution_count": 29,
      "outputs": [
        {
          "output_type": "execute_result",
          "data": {
            "text/plain": [
              "Decimal('112.123')"
            ]
          },
          "metadata": {
            "tags": []
          },
          "execution_count": 29
        }
      ]
    },
    {
      "cell_type": "code",
      "metadata": {
        "id": "Z8_f-ANn1XPu",
        "colab_type": "code",
        "colab": {
          "base_uri": "https://localhost:8080/",
          "height": 34
        },
        "outputId": "e32db973-5ec9-4bc5-9708-09136150438f"
      },
      "source": [
        "print(f'{amount2:.20f}')"
      ],
      "execution_count": 30,
      "outputs": [
        {
          "output_type": "stream",
          "text": [
            "112.12300000000000000000\n"
          ],
          "name": "stdout"
        }
      ]
    },
    {
      "cell_type": "code",
      "metadata": {
        "id": "MDlL5pJy23Dl",
        "colab_type": "code",
        "colab": {}
      },
      "source": [
        "# Decimal type can only operate with decimal ( +,-,//,/,%)"
      ],
      "execution_count": 31,
      "outputs": []
    },
    {
      "cell_type": "markdown",
      "metadata": {
        "id": "FDCRdeNf4E-f",
        "colab_type": "text"
      },
      "source": [
        "## 11. f-string "
      ]
    },
    {
      "cell_type": "code",
      "metadata": {
        "id": "JrMEEK_74QxA",
        "colab_type": "code",
        "colab": {}
      },
      "source": [
        "import numpy as np"
      ],
      "execution_count": 32,
      "outputs": []
    },
    {
      "cell_type": "code",
      "metadata": {
        "id": "mjBLMI2d4U_y",
        "colab_type": "code",
        "colab": {
          "base_uri": "https://localhost:8080/",
          "height": 68
        },
        "outputId": "5259ebf6-b48c-417c-a7a1-0ce83af64b61"
      },
      "source": [
        "random_number = np.random.normal(0,1,   15 )\n",
        "random_number"
      ],
      "execution_count": 33,
      "outputs": [
        {
          "output_type": "execute_result",
          "data": {
            "text/plain": [
              "array([-1.05350274, -0.97043872, -0.83253201, -1.58810043, -0.21045188,\n",
              "       -0.5891122 ,  0.04398566, -1.24068784, -2.22461916, -1.29184331,\n",
              "        0.50147602,  0.76215826, -0.23221432, -0.19248624, -0.05357743])"
            ]
          },
          "metadata": {
            "tags": []
          },
          "execution_count": 33
        }
      ]
    },
    {
      "cell_type": "code",
      "metadata": {
        "id": "lT9WNsse4J5t",
        "colab_type": "code",
        "colab": {
          "base_uri": "https://localhost:8080/",
          "height": 272
        },
        "outputId": "1aa51314-a692-41bd-e62b-e134d0c04e2e"
      },
      "source": [
        "for i in range(0,15):\n",
        "  amount = random_number[i] \n",
        "  print(  f'{i:>2}{amount:>10.2f}'    )\n",
        "\n",
        "  # {i:>2} means use 2 character position, > means right aligned \n",
        "  # {amount:>10.2f} means use 10 character position, > means right aligned,   .2 means keeping 2 decimals\n",
        "  # , the last \"f\" means floating point"
      ],
      "execution_count": 34,
      "outputs": [
        {
          "output_type": "stream",
          "text": [
            " 0     -1.05\n",
            " 1     -0.97\n",
            " 2     -0.83\n",
            " 3     -1.59\n",
            " 4     -0.21\n",
            " 5     -0.59\n",
            " 6      0.04\n",
            " 7     -1.24\n",
            " 8     -2.22\n",
            " 9     -1.29\n",
            "10      0.50\n",
            "11      0.76\n",
            "12     -0.23\n",
            "13     -0.19\n",
            "14     -0.05\n"
          ],
          "name": "stdout"
        }
      ]
    },
    {
      "cell_type": "markdown",
      "metadata": {
        "id": "XeV7IWdvVN3v",
        "colab_type": "text"
      },
      "source": [
        "-----"
      ]
    },
    {
      "cell_type": "markdown",
      "metadata": {
        "id": "Vu8rB8qbrKmj",
        "colab_type": "text"
      },
      "source": [
        "# Formatting Techniques for text cells."
      ]
    },
    {
      "cell_type": "markdown",
      "metadata": {
        "id": "SilLlbJxi6--",
        "colab_type": "text"
      },
      "source": [
        "##1. No need to concat strings inside the print() function\n",
        "print() will automatically insert spaces "
      ]
    },
    {
      "cell_type": "code",
      "metadata": {
        "id": "l71GqC-ajE3O",
        "colab_type": "code",
        "colab": {
          "base_uri": "https://localhost:8080/",
          "height": 34
        },
        "outputId": "ad65ebc3-85d7-472f-8a25-250c446a5721"
      },
      "source": [
        "print('str1' + ' ' +  'str')"
      ],
      "execution_count": 35,
      "outputs": [
        {
          "output_type": "stream",
          "text": [
            "str1 str\n"
          ],
          "name": "stdout"
        }
      ]
    },
    {
      "cell_type": "code",
      "metadata": {
        "id": "zJK2x2q6jJXJ",
        "colab_type": "code",
        "colab": {
          "base_uri": "https://localhost:8080/",
          "height": 34
        },
        "outputId": "d82b0d4a-c5b9-493e-e64c-542a4eaad341"
      },
      "source": [
        "print('str1' ,'str')  # print( , , ,  ....) can take unlimited arguments."
      ],
      "execution_count": 36,
      "outputs": [
        {
          "output_type": "stream",
          "text": [
            "str1 str\n"
          ],
          "name": "stdout"
        }
      ]
    },
    {
      "cell_type": "markdown",
      "metadata": {
        "id": "mjdbaHcvmbJX",
        "colab_type": "text"
      },
      "source": [
        "##2. Use 2 spaces (at the end of a string) to have the text move to the line."
      ]
    },
    {
      "cell_type": "markdown",
      "metadata": {
        "id": "j5SzlLnQl_65",
        "colab_type": "text"
      },
      "source": [
        "This is string1   \n",
        "This is string2\n",
        "Next line \n"
      ]
    },
    {
      "cell_type": "markdown",
      "metadata": {
        "id": "zUzy9qPMm7jZ",
        "colab_type": "text"
      },
      "source": [
        "##3. Use \\` \\` to display code in the `code` font"
      ]
    },
    {
      "cell_type": "markdown",
      "metadata": {
        "id": "4sSzuj07mPlb",
        "colab_type": "text"
      },
      "source": [
        "`print('This is a line of code')`"
      ]
    },
    {
      "cell_type": "markdown",
      "metadata": {
        "id": "mOubNfivny6U",
        "colab_type": "text"
      },
      "source": [
        "## 4. Use three `  to show code with syntax coloring \n",
        "\n",
        "\n",
        "\\```python\n",
        "\n",
        "\\#insert the code\n",
        "\n",
        "\\```"
      ]
    },
    {
      "cell_type": "markdown",
      "metadata": {
        "id": "q0ZgJT4roJzz",
        "colab_type": "text"
      },
      "source": [
        "```python\n",
        "print('This is a line of code')\n",
        "```"
      ]
    },
    {
      "cell_type": "markdown",
      "metadata": {
        "id": "QbmDxEaXpFmW",
        "colab_type": "text"
      },
      "source": [
        "##5. Use 3 \"-\" to add a dividing line."
      ]
    },
    {
      "cell_type": "markdown",
      "metadata": {
        "id": "TNIA2CDCpD6w",
        "colab_type": "text"
      },
      "source": [
        "---"
      ]
    },
    {
      "cell_type": "markdown",
      "metadata": {
        "id": "Hh2nsSZwmstY",
        "colab_type": "text"
      },
      "source": [
        "##To Be Continued. This file will be updated weekly starting from 2020/09/10."
      ]
    }
  ]
}